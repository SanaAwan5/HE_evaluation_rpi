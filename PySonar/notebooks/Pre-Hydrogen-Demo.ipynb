{
 "cells": [
  {
   "cell_type": "markdown",
   "metadata": {},
   "source": [
    "# Sonar - Decentralized Model Training Simulation (local)\n",
    "\n",
    "DISCLAIMER: This is a proof-of-concept implementation. It does not represent a remotely product ready implementation or follow proper conventions for security, convenience, or scalability. It is part of a broader proof-of-concept demonstrating the vision of the OpenMined project, its major moving parts, and how they might work together.\n"
   ]
  },
  {
   "cell_type": "markdown",
   "metadata": {},
   "source": [
    "### Imports and Convenience Functions"
   ]
  },
  {
   "cell_type": "code",
   "execution_count": 6,
   "metadata": {},
   "outputs": [
    {
     "ename": "ModuleNotFoundError",
     "evalue": "No module named 'phe'",
     "output_type": "error",
     "traceback": [
      "\u001b[0;31m---------------------------------------------------------------------------\u001b[0m",
      "\u001b[0;31mModuleNotFoundError\u001b[0m                       Traceback (most recent call last)",
      "\u001b[0;32m<ipython-input-6-e6864cad60d4>\u001b[0m in \u001b[0;36m<module>\u001b[0;34m\u001b[0m\n\u001b[1;32m      1\u001b[0m \u001b[0;32mimport\u001b[0m \u001b[0mwarnings\u001b[0m\u001b[0;34m\u001b[0m\u001b[0;34m\u001b[0m\u001b[0m\n\u001b[1;32m      2\u001b[0m \u001b[0;32mimport\u001b[0m \u001b[0mnumpy\u001b[0m \u001b[0;32mas\u001b[0m \u001b[0mnp\u001b[0m\u001b[0;34m\u001b[0m\u001b[0;34m\u001b[0m\u001b[0m\n\u001b[0;32m----> 3\u001b[0;31m \u001b[0;32mimport\u001b[0m \u001b[0mphe\u001b[0m \u001b[0;32mas\u001b[0m \u001b[0mpaillier\u001b[0m\u001b[0;34m\u001b[0m\u001b[0;34m\u001b[0m\u001b[0m\n\u001b[0m\u001b[1;32m      4\u001b[0m \u001b[0;32mfrom\u001b[0m \u001b[0msonar\u001b[0m\u001b[0;34m.\u001b[0m\u001b[0mcontracts\u001b[0m \u001b[0;32mimport\u001b[0m \u001b[0mModelRepository\u001b[0m\u001b[0;34m,\u001b[0m\u001b[0mModel\u001b[0m\u001b[0;34m\u001b[0m\u001b[0;34m\u001b[0m\u001b[0m\n\u001b[1;32m      5\u001b[0m \u001b[0;32mfrom\u001b[0m \u001b[0msyft\u001b[0m\u001b[0;34m.\u001b[0m\u001b[0mhe\u001b[0m\u001b[0;34m.\u001b[0m\u001b[0mPaillier\u001b[0m \u001b[0;32mimport\u001b[0m \u001b[0mKeyPair\u001b[0m\u001b[0;34m\u001b[0m\u001b[0;34m\u001b[0m\u001b[0m\n",
      "\u001b[0;31mModuleNotFoundError\u001b[0m: No module named 'phe'"
     ]
    }
   ],
   "source": [
    "import warnings\n",
    "import numpy as np\n",
    "import phe as paillier\n",
    "from sonar.contracts import ModelRepository,Model\n",
    "from syft.he.Paillier import KeyPair\n",
    "from syft.nn.linear import LinearClassifier\n",
    "import numpy as np\n",
    "from sklearn.datasets import load_diabetes\n",
    "\n",
    "def get_balance(account):\n",
    "    return repo.web3.fromWei(repo.web3.eth.getBalance(account),'ether')\n",
    "\n",
    "warnings.filterwarnings('ignore')"
   ]
  },
  {
   "cell_type": "markdown",
   "metadata": {},
   "source": [
    "### Setting up the Experiment"
   ]
  },
  {
   "cell_type": "code",
   "execution_count": 5,
   "metadata": {},
   "outputs": [
    {
     "ename": "NameError",
     "evalue": "name 'load_diabetes' is not defined",
     "output_type": "error",
     "traceback": [
      "\u001b[0;31m---------------------------------------------------------------------------\u001b[0m",
      "\u001b[0;31mNameError\u001b[0m                                 Traceback (most recent call last)",
      "\u001b[0;32m<ipython-input-5-34c39b93ce0a>\u001b[0m in \u001b[0;36m<module>\u001b[0;34m\u001b[0m\n\u001b[1;32m      2\u001b[0m \u001b[0;31m# the relevant simulated users\u001b[0m\u001b[0;34m\u001b[0m\u001b[0;34m\u001b[0m\u001b[0;34m\u001b[0m\u001b[0m\n\u001b[1;32m      3\u001b[0m \u001b[0;34m\u001b[0m\u001b[0m\n\u001b[0;32m----> 4\u001b[0;31m \u001b[0mdiabetes\u001b[0m \u001b[0;34m=\u001b[0m \u001b[0mload_diabetes\u001b[0m\u001b[0;34m(\u001b[0m\u001b[0;34m)\u001b[0m\u001b[0;34m\u001b[0m\u001b[0;34m\u001b[0m\u001b[0m\n\u001b[0m\u001b[1;32m      5\u001b[0m \u001b[0my\u001b[0m \u001b[0;34m=\u001b[0m \u001b[0mdiabetes\u001b[0m\u001b[0;34m.\u001b[0m\u001b[0mtarget\u001b[0m\u001b[0;34m\u001b[0m\u001b[0;34m\u001b[0m\u001b[0m\n\u001b[1;32m      6\u001b[0m \u001b[0mX\u001b[0m \u001b[0;34m=\u001b[0m \u001b[0mdiabetes\u001b[0m\u001b[0;34m.\u001b[0m\u001b[0mdata\u001b[0m\u001b[0;34m\u001b[0m\u001b[0;34m\u001b[0m\u001b[0m\n",
      "\u001b[0;31mNameError\u001b[0m: name 'load_diabetes' is not defined"
     ]
    }
   ],
   "source": [
    "# for the purpose of the simulation, we're going to split our dataset up amongst\n",
    "# the relevant simulated users\n",
    "\n",
    "diabetes = load_diabetes()\n",
    "y = diabetes.target\n",
    "X = diabetes.data\n",
    "\n",
    "validation = (X[0:42],y[0:42])\n",
    "anonymous_diabetes_users = (X[42:],y[42:])\n",
    "\n",
    "# we're also going to initialize the model trainer smart contract, which in the\n",
    "# real world would already be on the blockchain (managing other contracts) before\n",
    "# the simulation begins\n",
    "\n",
    "# ATTENTION: copy paste the correct address (NOT THE DEFAULT SEEN HERE) from truffle migrate output.\n",
    "repo = ModelRepository('0xf30068fb49616db7d5afb89862d6b40d11389327', ipfs_host='localhost', web3_host='localhost') # blockchain hosted model repository"
   ]
  },
  {
   "cell_type": "code",
   "execution_count": 3,
   "metadata": {
    "collapsed": true
   },
   "outputs": [],
   "source": [
    "\n",
    "\n",
    "# we're going to set aside 400 accounts for our 400 patients\n",
    "# Let's go ahead and pair each data point with each patient's \n",
    "# address so that we know we don't get them confused\n",
    "patient_addresses = repo.web3.eth.accounts[1:40]\n",
    "anonymous_diabetics = list(zip(patient_addresses,\n",
    "                               anonymous_diabetes_users[0],\n",
    "                               anonymous_diabetes_users[1]))\n",
    "\n",
    "# we're going to set aside 1 account for Cure Diabetes Inc\n",
    "cure_diabetes_inc = repo.web3.eth.accounts[0]"
   ]
  },
  {
   "cell_type": "markdown",
   "metadata": {},
   "source": [
    "## Step 1: Cure Diabetes Inc Initializes a Model and Provides a Bounty"
   ]
  },
  {
   "cell_type": "code",
   "execution_count": 4,
   "metadata": {
    "collapsed": true
   },
   "outputs": [],
   "source": [
    "pubkey,prikey = KeyPair().generate(n_length=1024)\n",
    "diabetes_classifier = LinearClassifier(desc=\"DiabetesClassifier\",n_inputs=10,n_labels=1)\n",
    "initial_error = diabetes_classifier.evaluate(validation[0],validation[1])\n",
    "diabetes_classifier.encrypt(pubkey)\n",
    "\n",
    "diabetes_model = Model(owner=cure_diabetes_inc,\n",
    "                       syft_obj = diabetes_classifier,\n",
    "                       bounty = 1,\n",
    "                       initial_error = initial_error,\n",
    "                       target_error = 10000\n",
    "                      )"
   ]
  },
  {
   "cell_type": "code",
   "execution_count": 5,
   "metadata": {
    "collapsed": true
   },
   "outputs": [],
   "source": [
    "model_id = repo.submit_model(diabetes_model)"
   ]
  },
  {
   "cell_type": "code",
   "execution_count": 6,
   "metadata": {},
   "outputs": [
    {
     "data": {
      "text/plain": [
       "'0xc9392bce7589dc7b74bde11f16f26bcddac1fa8e'"
      ]
     },
     "execution_count": 6,
     "metadata": {},
     "output_type": "execute_result"
    }
   ],
   "source": [
    "cure_diabetes_inc"
   ]
  },
  {
   "cell_type": "markdown",
   "metadata": {},
   "source": [
    "## Step 2: An Anonymous Patient Downloads the Model and Improves It"
   ]
  },
  {
   "cell_type": "code",
   "execution_count": 5,
   "metadata": {},
   "outputs": [
    {
     "data": {
      "text/plain": [
       "3"
      ]
     },
     "execution_count": 5,
     "metadata": {},
     "output_type": "execute_result"
    }
   ],
   "source": [
    "model_id"
   ]
  },
  {
   "cell_type": "code",
   "execution_count": 6,
   "metadata": {
    "collapsed": true
   },
   "outputs": [],
   "source": [
    "model = repo[model_id]"
   ]
  },
  {
   "cell_type": "code",
   "execution_count": 7,
   "metadata": {
    "collapsed": true
   },
   "outputs": [],
   "source": [
    "diabetic_address,input_data,target_data = anonymous_diabetics[0]"
   ]
  },
  {
   "cell_type": "code",
   "execution_count": 8,
   "metadata": {
    "collapsed": true
   },
   "outputs": [],
   "source": [
    "repo[model_id].submit_gradient(diabetic_address,input_data,target_data)"
   ]
  },
  {
   "cell_type": "markdown",
   "metadata": {},
   "source": [
    "## Step 3: Cure Diabetes Inc. Evaluates the Gradient "
   ]
  },
  {
   "cell_type": "code",
   "execution_count": 9,
   "metadata": {},
   "outputs": [
    {
     "data": {
      "text/plain": [
       "Desc:DiabetesClassifier\n",
       "Owner:0x2c5c65439020a4cdf67cb6a6e980aa3b62c8db2e\n",
       "Bounty:1\n",
       "Initial Error:26645642\n",
       "Best Error:None\n",
       "Target Error:10000\n",
       "Model ID:3\n",
       "Num Grads:1"
      ]
     },
     "execution_count": 9,
     "metadata": {},
     "output_type": "execute_result"
    }
   ],
   "source": [
    "repo[model_id]"
   ]
  },
  {
   "cell_type": "code",
   "execution_count": 10,
   "metadata": {},
   "outputs": [
    {
     "name": "stdout",
     "output_type": "stream",
     "text": [
      "100.007394085094304861\n"
     ]
    }
   ],
   "source": [
    "old_balance = get_balance(diabetic_address)\n",
    "print(old_balance)"
   ]
  },
  {
   "cell_type": "code",
   "execution_count": 11,
   "metadata": {
    "collapsed": true
   },
   "outputs": [],
   "source": [
    "new_error = repo[model_id].evaluate_gradient(cure_diabetes_inc,repo[model_id][0],prikey,pubkey,validation[0],validation[1])"
   ]
  },
  {
   "cell_type": "code",
   "execution_count": 12,
   "metadata": {},
   "outputs": [
    {
     "data": {
      "text/plain": [
       "26623238"
      ]
     },
     "execution_count": 12,
     "metadata": {},
     "output_type": "execute_result"
    }
   ],
   "source": [
    "new_error"
   ]
  },
  {
   "cell_type": "code",
   "execution_count": 13,
   "metadata": {},
   "outputs": [
    {
     "name": "stdout",
     "output_type": "stream",
     "text": [
      "0.000840812917924814\n"
     ]
    }
   ],
   "source": [
    "new_balance = get_balance(diabetic_address)\n",
    "incentive = new_balance - old_balance\n",
    "print(incentive)"
   ]
  },
  {
   "cell_type": "markdown",
   "metadata": {},
   "source": [
    "## Step 4: Rinse and Repeat"
   ]
  },
  {
   "cell_type": "code",
   "execution_count": 14,
   "metadata": {},
   "outputs": [
    {
     "data": {
      "text/plain": [
       "Desc:DiabetesClassifier\n",
       "Owner:0x2c5c65439020a4cdf67cb6a6e980aa3b62c8db2e\n",
       "Bounty:1\n",
       "Initial Error:26645642\n",
       "Best Error:None\n",
       "Target Error:10000\n",
       "Model ID:3\n",
       "Num Grads:1"
      ]
     },
     "execution_count": 14,
     "metadata": {},
     "output_type": "execute_result"
    }
   ],
   "source": [
    "model"
   ]
  },
  {
   "cell_type": "code",
   "execution_count": null,
   "metadata": {},
   "outputs": [
    {
     "name": "stdout",
     "output_type": "stream",
     "text": [
      "new error = 26580005\n",
      "incentive = 0.00162\n",
      "new error = 26639344\n",
      "incentive = 0.00000\n",
      "new error = 26536737\n",
      "incentive = 0.00163\n",
      "new error = 26546235\n",
      "incentive = 0.00000\n"
     ]
    }
   ],
   "source": [
    "for i,(addr, input, target) in enumerate(anonymous_diabetics):\n",
    "    try:\n",
    "        \n",
    "        model = repo[model_id]\n",
    "        \n",
    "        # patient is doing this\n",
    "        model.submit_gradient(addr,input,target)\n",
    "        \n",
    "        # Cure Diabetes Inc does this\n",
    "        old_balance = get_balance(addr)\n",
    "        new_error = model.evaluate_gradient(cure_diabetes_inc,model[i+1],prikey,pubkey,validation[0],validation[1],alpha=2)\n",
    "        print(\"new error = \"+str(new_error))\n",
    "        incentive = round(get_balance(addr) - old_balance,5)\n",
    "        print(\"incentive = \"+str(incentive))\n",
    "    except:\n",
    "        \"Connection Reset\""
   ]
  }
 ],
 "metadata": {
  "kernelspec": {
   "display_name": "Python 3",
   "language": "python",
   "name": "python3"
  },
  "language_info": {
   "codemirror_mode": {
    "name": "ipython",
    "version": 3
   },
   "file_extension": ".py",
   "mimetype": "text/x-python",
   "name": "python",
   "nbconvert_exporter": "python",
   "pygments_lexer": "ipython3",
   "version": "3.6.8"
  }
 },
 "nbformat": 4,
 "nbformat_minor": 2
}
