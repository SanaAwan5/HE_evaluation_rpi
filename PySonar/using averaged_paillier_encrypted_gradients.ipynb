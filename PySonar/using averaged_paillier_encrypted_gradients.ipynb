{
 "cells": [
  {
   "cell_type": "markdown",
   "metadata": {},
   "source": [
    "# Sonar - Decentralized Model Training Simulation (local)\n",
    "\n",
    "DISCLAIMER: This is a proof-of-concept implementation. It does not represent a remotely product ready implementation or follow proper conventions for security, convenience, or scalability. It is part of a broader proof-of-concept demonstrating the vision of the OpenMined project, its major moving parts, and how they might work together.\n"
   ]
  },
  {
   "cell_type": "markdown",
   "metadata": {},
   "source": [
    "# Getting Started: Installation\n",
    "\n",
    "##### Step 1: install IPFS\n",
    "\n",
    "- https://ipfs.io/docs/install/\n",
    "\n",
    "##### Step 2: Turn on IPFS Daemon\n",
    "Execute on command line:\n",
    "> ipfs daemon\n",
    "\n",
    "##### Step 3: Install Ethereum testrpc\n",
    "\n",
    "- https://github.com/ethereumjs/testrpc\n",
    "\n",
    "##### Step 4: Turn on testrpc with 1000 initialized accounts (each with some money)\n",
    "Execute on command line:\n",
    "> testrpc -a 1000\n",
    "\n",
    "##### Step 5: install openmined/sonar and all dependencies (truffle)\n",
    "\n",
    "##### Step 6: Locally Deploy Smart Contracts in openmined/sonar\n",
    "From the OpenMined/Sonar repository root run\n",
    "> truffle compile\n",
    "> truffle migrate\n",
    "\n",
    "you should see something like this when you run migrate:\n",
    "```\n",
    "Using network 'development'.\n",
    "\n",
    "Running migration: 1_initial_migration.js\n",
    "  Deploying Migrations...\n",
    "  Migrations: 0xf06039885460a42dcc8db5b285bb925c55fbaeae\n",
    "Saving successful migration to network...\n",
    "Saving artifacts...\n",
    "Running migration: 2_deploy_contracts.js\n",
    "  Deploying ConvertLib...\n",
    "  ConvertLib: 0x6cc86f0a80180a491f66687243376fde45459436\n",
    "  Deploying ModelRepository...\n",
    "  ModelRepository: 0xe26d32efe1c573c9f81d68aa823dcf5ff3356946\n",
    "  Linking ConvertLib to MetaCoin\n",
    "  Deploying MetaCoin...\n",
    "  MetaCoin: 0x6d3692bb28afa0eb37d364c4a5278807801a95c5\n",
    "```\n",
    "\n",
    "The address after 'ModelRepository' is something you'll need to copy paste into the code\n",
    "below when you initialize the \"ModelRepository\" object. In this case the address to be\n",
    "copy pasted is `0xe26d32efe1c573c9f81d68aa823dcf5ff3356946`.\n",
    "\n",
    "##### Step 7: execute the following code"
   ]
  },
  {
   "cell_type": "markdown",
   "metadata": {},
   "source": [
    "# The Simulation: Diabetes Prediction"
   ]
  },
  {
   "cell_type": "markdown",
   "metadata": {},
   "source": [
    "In this example, a diabetes research center (Cure Diabetes Inc) wants to train a model to try to predict the progression of diabetes based on several indicators. They have collected a small sample (42 patients) of data but it's not enough to train a model. So, they intend to offer up a bounty of $5,000 to the OpenMined commmunity to train a high quality model.\n",
    "\n",
    "As it turns out, there are 400 diabetics in the network who are candidates for the model (are collecting the relevant fields). In this simulation, we're going to faciliate the training of Cure Diabetes Inc incentivizing these 400 anonymous contributors to train the model using the Ethereum blockchain.\n",
    "\n",
    "Note, in this simulation we're only going to use the sonar and syft packages (and everything is going to be deployed locally on a test blockchain). Future simulations will incorporate mine and capsule for greater anonymity and automation."
   ]
  },
  {
   "cell_type": "markdown",
   "metadata": {},
   "source": [
    "### Imports and Convenience Functions"
   ]
  },
  {
   "cell_type": "code",
   "execution_count": 1,
   "metadata": {},
   "outputs": [],
   "source": [
    "import warnings\n",
    "import numpy as np\n",
    "import phe as paillier\n",
    "import time\n",
    "from sonar.contracts_listclass import ModelRepository,Model,Gradient_List\n",
    "from syft.he.paillier.keys import KeyPair,SecretKey,PublicKey\n",
    "from syft.nn.linear import LinearClassifier\n",
    "from sklearn.datasets import load_breast_cancer\n",
    "\n",
    "start = time.time()\n",
    "\n",
    "def get_balance(account):\n",
    "    return repo.web3.fromWei(repo.web3.eth.getBalance(account),'ether')\n",
    "\n",
    "warnings.filterwarnings('ignore')"
   ]
  },
  {
   "cell_type": "markdown",
   "metadata": {},
   "source": [
    "### Setting up the Experiment"
   ]
  },
  {
   "cell_type": "code",
   "execution_count": 2,
   "metadata": {},
   "outputs": [
    {
     "name": "stdout",
     "output_type": "stream",
     "text": [
      "No account submitted... using default[2]\n",
      "Connected to ModelRepository:0x130B4774b1010C4649057c802955B631d2114E53\n"
     ]
    }
   ],
   "source": [
    "# for the purpose of the simulation, we're going to split our dataset up amongst\n",
    "# the relevant simulated users\n",
    "\n",
    "diabetes = load_breast_cancer()\n",
    "y = diabetes.target\n",
    "X = diabetes.data\n",
    "\n",
    "validation = (X[46:51],y[46:51])\n",
    "anonymous_diabetes_users = (X[52:],y[52:])\n",
    "\n",
    "# we're also going to initialize the model trainer smart contract, which in the\n",
    "# real world would already be on the blockchain (managing other contracts) before\n",
    "# the simulation begins\n",
    "\n",
    "# ATTENTION: copy paste the correct address (NOT THE DEFAULT SEEN HERE) from truffle migrate output.\n",
    "repo = ModelRepository('0x130B4774b1010C4649057c802955B631d2114E53') # blockchain hosted model repository"
   ]
  },
  {
   "cell_type": "code",
   "execution_count": 3,
   "metadata": {},
   "outputs": [],
   "source": [
    "\n",
    "\n",
    "# we're going to set aside 10 accounts for our 42 patients\n",
    "# Let's go ahead and pair each data point with each patient's \n",
    "# address so that we know we don't get them confused\n",
    "patient_addresses = repo.web3.eth.accounts[1:15]\n",
    "anonymous_diabetics = list(zip(patient_addresses,\n",
    "                               anonymous_diabetes_users[0],\n",
    "                               anonymous_diabetes_users[1]))\n",
    "\n",
    "# we're going to set aside 1 account for Cure Diabetes Inc\n",
    "cure_diabetes_inc = repo.web3.eth.accounts[1]\n",
    "agg_addr = repo.web3.eth.accounts[2]"
   ]
  },
  {
   "cell_type": "markdown",
   "metadata": {},
   "source": [
    "## Step 1: Cure Diabetes Inc Initializes a Model and Provides a Bounty"
   ]
  },
  {
   "cell_type": "code",
   "execution_count": 4,
   "metadata": {},
   "outputs": [
    {
     "name": "stdout",
     "output_type": "stream",
     "text": [
      "initial error 800\n"
     ]
    }
   ],
   "source": [
    "pubkey,prikey = KeyPair().generate(n_length=1024)\n",
    "#pubkey,prikey=paillier.paillier.generate_paillier_keypair()\n",
    "diabetes_classifier = LinearClassifier(desc=\"DiabetesClassifier\",n_inputs=30,n_labels=2)\n",
    "initial_error = diabetes_classifier.evaluate(validation[0],validation[1])\n",
    "diabetes_classifier.encrypt(pubkey)\n",
    "s1,s2=paillier.paillier.genKeyShares(prikey.sk,pubkey.pk)\n",
    "st=SecretKey(s1)\n",
    "sab=SecretKey(s2)\n",
    "s3,s4=paillier.paillier.genKeyShares(s2,pubkey.pk)\n",
    "sa=SecretKey(s3)\n",
    "scb=SecretKey(s4)\n",
    "\n",
    "diabetes_model = Model(owner=cure_diabetes_inc,\n",
    "                       syft_obj = diabetes_classifier,\n",
    "                       bounty = 2,\n",
    "                       initial_error = initial_error,\n",
    "                       target_error = 100,\n",
    "                       best_error= initial_error\n",
    "                      )\n",
    "model_id = repo.submit_model(diabetes_model)\n",
    "print('initial error',initial_error)"
   ]
  },
  {
   "cell_type": "markdown",
   "metadata": {},
   "source": [
    "## Step 2: An Anonymous Patient Downloads the Model and Improves It"
   ]
  },
  {
   "cell_type": "code",
   "execution_count": 5,
   "metadata": {},
   "outputs": [
    {
     "data": {
      "text/plain": [
       "1"
      ]
     },
     "execution_count": 5,
     "metadata": {},
     "output_type": "execute_result"
    }
   ],
   "source": [
    "model_id"
   ]
  },
  {
   "cell_type": "code",
   "execution_count": 6,
   "metadata": {},
   "outputs": [],
   "source": [
    "model = repo[model_id]"
   ]
  },
  {
   "cell_type": "code",
   "execution_count": 7,
   "metadata": {},
   "outputs": [],
   "source": [
    "diabetic_address,input_data,target_data = anonymous_diabetics[0]"
   ]
  },
  {
   "cell_type": "code",
   "execution_count": 8,
   "metadata": {
    "scrolled": true
   },
   "outputs": [],
   "source": [
    "gradient=model.generate_gradient(diabetic_address,input_data,target_data)\n",
    "model.submit_transformed_gradients(gradient,st)"
   ]
  },
  {
   "cell_type": "markdown",
   "metadata": {},
   "source": [
    "## Step 3: Cure Diabetes Inc. Evaluates the Gradient "
   ]
  },
  {
   "cell_type": "code",
   "execution_count": 9,
   "metadata": {
    "scrolled": true
   },
   "outputs": [],
   "source": [
    "#print (model.gradient_list)\n",
    "#print(model.model_id)"
   ]
  },
  {
   "cell_type": "code",
   "execution_count": 10,
   "metadata": {},
   "outputs": [
    {
     "name": "stdout",
     "output_type": "stream",
     "text": [
      "77.9999999999952916\n"
     ]
    }
   ],
   "source": [
    "old_balance = get_balance(diabetic_address)\n",
    "print(old_balance)"
   ]
  },
  {
   "cell_type": "code",
   "execution_count": 11,
   "metadata": {
    "scrolled": false
   },
   "outputs": [
    {
     "name": "stdout",
     "output_type": "stream",
     "text": [
      "len 1\n",
      "type <class 'phe.paillier.EncryptedNumber'>\n"
     ]
    }
   ],
   "source": [
    "gradient_list=Gradient_List(model_id, repo=repo, model=model)\n",
    "gradient_list[model_id]\n",
    "model=repo[model_id]\n",
    "avg_gradient=gradient_list.generate_gradient_avg(agg_addr,sa,alpha=2)\n",
    "new_error,updatedModel = model.evaluate_gradient_from_avg(cure_diabetes_inc,agg_addr,avg_gradient,scb,prikey,pubkey,validation[0],validation[1])"
   ]
  },
  {
   "cell_type": "code",
   "execution_count": 12,
   "metadata": {},
   "outputs": [
    {
     "data": {
      "text/plain": [
       "273221836002328"
      ]
     },
     "execution_count": 12,
     "metadata": {},
     "output_type": "execute_result"
    }
   ],
   "source": [
    "new_error"
   ]
  },
  {
   "cell_type": "code",
   "execution_count": 13,
   "metadata": {},
   "outputs": [
    {
     "name": "stdout",
     "output_type": "stream",
     "text": [
      "-3.8565E-14\n"
     ]
    }
   ],
   "source": [
    "new_balance = get_balance(diabetic_address)\n",
    "incentive = new_balance - old_balance\n",
    "print(incentive)"
   ]
  },
  {
   "cell_type": "markdown",
   "metadata": {},
   "source": [
    "## Step 4: Rinse and Repeat"
   ]
  },
  {
   "cell_type": "code",
   "execution_count": 14,
   "metadata": {},
   "outputs": [
    {
     "data": {
      "text/plain": [
       "Desc:DiabetesClassifier\n",
       "Owner:0xe7a6fe93c06be5a99551d32e1a0771b3da3aa4c3\n",
       "Bounty:2\n",
       "Initial Error:800\n",
       "Best Error:800\n",
       "Target Error:100\n",
       "Model ID:1\n",
       "Num Grads:1"
      ]
     },
     "execution_count": 14,
     "metadata": {},
     "output_type": "execute_result"
    }
   ],
   "source": [
    "repo[model_id]"
   ]
  },
  {
   "cell_type": "code",
   "execution_count": 15,
   "metadata": {
    "scrolled": false
   },
   "outputs": [
    {
     "name": "stdout",
     "output_type": "stream",
     "text": [
      "model_id 1\n",
      "102.000005174448574608\n",
      "len 2\n",
      "type <class 'phe.paillier.EncryptedNumber'>\n",
      "new error from averaged gradients = 1092888823145511\n",
      "800\n",
      "incentive = 0.000001366110896550\n",
      "model_id 1\n",
      "102.000006540559338259\n",
      "len 3\n",
      "type <class 'phe.paillier.EncryptedNumber'>\n",
      "new error from averaged gradients = 485728037145427\n",
      "800\n",
      "incentive = 6.07159914050E-7\n",
      "model_id 1\n",
      "102.000007147719252309\n",
      "len 4\n",
      "type <class 'phe.paillier.EncryptedNumber'>\n",
      "new error from averaged gradients = 273221836002328\n",
      "800\n",
      "incentive = 3.41527162621E-7\n",
      "model_id 1\n",
      "102.00000748924641493\n",
      "len 5\n",
      "type <class 'phe.paillier.EncryptedNumber'>\n",
      "new error from averaged gradients = 380756560763733\n",
      "800\n",
      "incentive = 4.75945568573E-7\n",
      "model_id 1\n",
      "102.000007965191983503\n",
      "len 6\n",
      "type <class 'phe.paillier.EncryptedNumber'>\n",
      "new error from averaged gradients = 264414157057164\n",
      "800\n",
      "incentive = 3.30517563940E-7\n",
      "model_id 1\n",
      "102.000008295709547443\n",
      "len 7\n",
      "type <class 'phe.paillier.EncryptedNumber'>\n",
      "new error from averaged gradients = 194263373245390\n",
      "800\n",
      "incentive = 2.42829084175E-7\n",
      "model_id 1\n",
      "102.000008538538631618\n",
      "len 8\n",
      "type <class 'phe.paillier.EncryptedNumber'>\n",
      "new error from averaged gradients = 292782437180405\n",
      "800\n",
      "incentive = 3.65977914094E-7\n",
      "model_id 1\n",
      "102.000008904516545712\n",
      "len 9\n",
      "type <class 'phe.paillier.EncryptedNumber'>\n",
      "new error from averaged gradients = 293526388863045\n",
      "800\n",
      "incentive = 3.66907853697E-7\n",
      "model_id 1\n",
      "102.000009271424399409\n",
      "len 10\n",
      "type <class 'phe.paillier.EncryptedNumber'>\n",
      "new error from averaged gradients = 315542004688681\n",
      "800\n",
      "incentive = 3.94427373479E-7\n",
      "execution time 29.0341899394989\n"
     ]
    }
   ],
   "source": [
    "for i,(addr, input, target) in enumerate(anonymous_diabetics):\n",
    "        model = repo[model_id]\n",
    "        print('model_id',model_id)\n",
    "        \n",
    "        # patient is doing this\n",
    "        gradient=model.generate_gradient(addr,input,target)\n",
    "        model.submit_transformed_gradients(gradient,st)\n",
    "        \n",
    "        # Cure Diabetes Inc does this\n",
    "        old_balance = get_balance(agg_addr)\n",
    "        print(old_balance)\n",
    "        gradient_list=Gradient_List(model_id, repo=repo, model=model)\n",
    "        gradient_list[model_id]\n",
    "        avg_gradient=gradient_list.generate_gradient_avg(agg_addr,sa,alpha=2)\n",
    "        new_error,updatedModel = model.evaluate_gradient_from_avg(cure_diabetes_inc,agg_addr,avg_gradient,scb,prikey,pubkey,validation[0],validation[1],alpha=2)\n",
    "        print(\"new error from averaged gradients = \"+str(new_error))\n",
    "        print(model.best_error)\n",
    "        incentive = (get_balance(agg_addr) - old_balance)\n",
    "        print(\"incentive = \"+str(incentive))\n",
    "umodelid=repo.submit_updated_model(updatedModel)\n",
    "model=repo.getUpdatedModel(umodelid)\n",
    "end = time.time()\n",
    "print('execution time', end - start)\n",
    "\n"
   ]
  },
  {
   "cell_type": "code",
   "execution_count": null,
   "metadata": {},
   "outputs": [],
   "source": []
  },
  {
   "cell_type": "code",
   "execution_count": null,
   "metadata": {},
   "outputs": [],
   "source": []
  },
  {
   "cell_type": "code",
   "execution_count": null,
   "metadata": {},
   "outputs": [],
   "source": []
  }
 ],
 "metadata": {
  "kernelspec": {
   "display_name": "Python 3",
   "language": "python",
   "name": "python3"
  },
  "language_info": {
   "codemirror_mode": {
    "name": "ipython",
    "version": 3
   },
   "file_extension": ".py",
   "mimetype": "text/x-python",
   "name": "python",
   "nbconvert_exporter": "python",
   "pygments_lexer": "ipython3",
   "version": "3.6.8"
  }
 },
 "nbformat": 4,
 "nbformat_minor": 2
}
